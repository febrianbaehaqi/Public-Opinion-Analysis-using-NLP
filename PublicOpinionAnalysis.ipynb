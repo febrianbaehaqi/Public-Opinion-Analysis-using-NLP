{
 "cells": [
  {
   "cell_type": "markdown",
   "id": "a941bbdb",
   "metadata": {},
   "source": [
    "# Tugas Akhir Febrian Akhmad Baehaqi\n",
    "\n",
    "# 1. Definisi Masalah\n",
    "Pada tugas akhir kali ini, saya akan melakukan sentiment analysis terhadap suatu topik. Topik yang saya pilih adalah tentang \"penundaan pemilu\" yang belakangan ini ramai menjadi isu yang hangat. Tujuan dari tugas akhir ini adalah untuk mengetahui sentimen masyarakat terhadap isu ini terutama warganet yang ada di twitter. Lalu, saya akan mengambil beberapa judul berita dengan menggunakan web scraping untuk mengetahui sentimen dari judul-judul berita terkait isu penundaan pemilu berdasarkan hasil dari Machine Learning model yang dibuat dari data TwitterAPI."
   ]
  },
  {
   "cell_type": "code",
   "execution_count": 1,
   "id": "9c149695",
   "metadata": {},
   "outputs": [],
   "source": [
    "# Import packages yang dibutuhkan\n",
    "\n",
    "import pandas as pd\n",
    "import seaborn as sns\n",
    "import numpy as np\n",
    "import matplotlib.pyplot as plt\n",
    "import json, tweepy, requests, re, datetime, string, nltk\n",
    "from collections import Counter\n",
    "from nltk.corpus import stopwords\n",
    "from nltk.tokenize import word_tokenize\n",
    "from nltk import FreqDist\n",
    "from urllib.request import Request, urlopen\n",
    "from bs4 import BeautifulSoup\n",
    "from sklearn.feature_extraction.text import TfidfVectorizer\n",
    "from sklearn.naive_bayes import GaussianNB\n",
    "from sklearn.model_selection import train_test_split\n",
    "from sklearn.metrics import classification_report, confusion_matrix, accuracy_score\n",
    "\n",
    "import gensim\n",
    "from gensim import corpora\n",
    "from gensim.models.coherencemodel import CoherenceModel\n",
    "from gensim.models.ldamodel import LdaModel\n",
    "from numpy import array\n",
    "import tqdm\n",
    "from pprint import pprint\n",
    "\n",
    "indonesia_s = stopwords.words('indonesian')"
   ]
  },
  {
   "cell_type": "code",
   "execution_count": 2,
   "id": "cc2101d9",
   "metadata": {},
   "outputs": [],
   "source": [
    "# Mempersiapkan token untuk menggunakan TwitterAPI\n",
    "\n",
    "with open(\"token.json\")as f:\n",
    "  tokens = json.load(f)\n",
    "\n",
    "bearer_token = tokens['bearer_token']\n",
    "api_key = tokens['api_key']\n",
    "api_key_secret = tokens['api_key_secret']\n",
    "access_token = tokens['access_token']\n",
    "access_token_secret = tokens['access_token_secret']"
   ]
  },
  {
   "cell_type": "markdown",
   "id": "f1c6712c",
   "metadata": {},
   "source": [
    "# 2. Data Collection\n",
    "Data collection kali ini dibagi menjadi 2 bagian yaitu data collection untuk informasi tweet menggunakan TwitterAPI (Tweepy) dan data collection judul-judul berita menggunakan BeautifulSoup4.\n",
    "\n",
    "Data-data ini diambil pada Jumat, 8 April 2022. Pengambilan data pada waktu yang berbeda dapat menyebabkan hasil data yang didapat berbeda pula."
   ]
  },
  {
   "cell_type": "markdown",
   "id": "4bf1ddb8",
   "metadata": {},
   "source": [
    "## 2.1 TwitterAPI\n",
    "Tweepy akan digunakan untuk mengumpulkan tweet-tweet mengenai penundaan pemilu selama 4 hari ke belakang (Mulai dari tanggal 3 April 2022 hingga 7 April 2022). Hasil dari penambangan TwitterAPI akan disimpan pada DataFrame df_tweets."
   ]
  },
  {
   "cell_type": "code",
   "execution_count": 3,
   "id": "641743c4",
   "metadata": {},
   "outputs": [],
   "source": [
    "api = tweepy.Client(bearer_token=bearer_token, wait_on_rate_limit=True)\n",
    "\n",
    "start_date = '2022-04-04T00:00:00Z'\n",
    "end_date = '2022-04-08T00:00:00Z'\n",
    "\n",
    "query = \"penundaan pemilu -is:retweet lang:id\"\n",
    "\n",
    "response = tweepy.Paginator(api.search_recent_tweets,\n",
    "                            query = query,\n",
    "                            tweet_fields=['context_annotations', 'created_at'],\n",
    "                            start_time = start_date,\n",
    "                            end_time = end_date,\n",
    "                            max_results=100\n",
    "                               ).flatten()\n",
    "tweets = [tweet.text.strip() for tweet in response]"
   ]
  },
  {
   "cell_type": "code",
   "execution_count": 4,
   "id": "d59ced63",
   "metadata": {},
   "outputs": [
    {
     "data": {
      "text/html": [
       "<div>\n",
       "<style scoped>\n",
       "    .dataframe tbody tr th:only-of-type {\n",
       "        vertical-align: middle;\n",
       "    }\n",
       "\n",
       "    .dataframe tbody tr th {\n",
       "        vertical-align: top;\n",
       "    }\n",
       "\n",
       "    .dataframe thead th {\n",
       "        text-align: right;\n",
       "    }\n",
       "</style>\n",
       "<table border=\"1\" class=\"dataframe\">\n",
       "  <thead>\n",
       "    <tr style=\"text-align: right;\">\n",
       "      <th></th>\n",
       "      <th>tweets</th>\n",
       "    </tr>\n",
       "  </thead>\n",
       "  <tbody>\n",
       "    <tr>\n",
       "      <th>0</th>\n",
       "      <td>\"Kalau Pak Luhut ya monggo saja, bisa evaluasi...</td>\n",
       "    </tr>\n",
       "    <tr>\n",
       "      <th>1</th>\n",
       "      <td>Mahasiswa Lebak Tolak Penundaan Pemilu dan Jok...</td>\n",
       "    </tr>\n",
       "    <tr>\n",
       "      <th>2</th>\n",
       "      <td>@forjakeu Stop isu penundaan pemilu</td>\n",
       "    </tr>\n",
       "    <tr>\n",
       "      <th>3</th>\n",
       "      <td>@pelitabangsa45 Stop isu penundaan pemilu</td>\n",
       "    </tr>\n",
       "    <tr>\n",
       "      <th>4</th>\n",
       "      <td>@muispebrianto Saya prihatin melihat ini, masi...</td>\n",
       "    </tr>\n",
       "    <tr>\n",
       "      <th>...</th>\n",
       "      <td>...</td>\n",
       "    </tr>\n",
       "    <tr>\n",
       "      <th>5144</th>\n",
       "      <td>Mewaspadai Black Campaign Kelompok Oposisi Yan...</td>\n",
       "    </tr>\n",
       "    <tr>\n",
       "      <th>5145</th>\n",
       "      <td>Penundaan pemilu 2024 bukan hanya akan memperp...</td>\n",
       "    </tr>\n",
       "    <tr>\n",
       "      <th>5146</th>\n",
       "      <td>2019 Ganti Presiden disebut Makar katanya mela...</td>\n",
       "    </tr>\n",
       "    <tr>\n",
       "      <th>5147</th>\n",
       "      <td>Ketum PAN: Soal Isu Penundaan Pemilu Jangan Sa...</td>\n",
       "    </tr>\n",
       "    <tr>\n",
       "      <th>5148</th>\n",
       "      <td>Ketum PAN: Soal Isu Penundaan Pemilu Jangan Sa...</td>\n",
       "    </tr>\n",
       "  </tbody>\n",
       "</table>\n",
       "<p>5149 rows × 1 columns</p>\n",
       "</div>"
      ],
      "text/plain": [
       "                                                 tweets\n",
       "0     \"Kalau Pak Luhut ya monggo saja, bisa evaluasi...\n",
       "1     Mahasiswa Lebak Tolak Penundaan Pemilu dan Jok...\n",
       "2                   @forjakeu Stop isu penundaan pemilu\n",
       "3             @pelitabangsa45 Stop isu penundaan pemilu\n",
       "4     @muispebrianto Saya prihatin melihat ini, masi...\n",
       "...                                                 ...\n",
       "5144  Mewaspadai Black Campaign Kelompok Oposisi Yan...\n",
       "5145  Penundaan pemilu 2024 bukan hanya akan memperp...\n",
       "5146  2019 Ganti Presiden disebut Makar katanya mela...\n",
       "5147  Ketum PAN: Soal Isu Penundaan Pemilu Jangan Sa...\n",
       "5148  Ketum PAN: Soal Isu Penundaan Pemilu Jangan Sa...\n",
       "\n",
       "[5149 rows x 1 columns]"
      ]
     },
     "execution_count": 4,
     "metadata": {},
     "output_type": "execute_result"
    }
   ],
   "source": [
    "# Menyimpan ke format .CSV\n",
    "# Namun karena untuk memastikan data yang digunakan sama,\n",
    "# maka line ini akan digantikan dengan membaca .csv yang sudah disimpan sebelumnya\n",
    "'''\n",
    "df_tweets = pd.DataFrame(tweets, columns=[\"tweets\"])\n",
    "df_tweets.to_csv(\"data_tweet.csv\",index=False)\n",
    "'''\n",
    "\n",
    "df_tweets = pd.read_csv('data_tweet.csv', header = 0)\n",
    "df_tweets"
   ]
  },
  {
   "cell_type": "markdown",
   "id": "c81419e8",
   "metadata": {},
   "source": [
    "## 2.2 Web scraping\n",
    "BeautifulSoup4 akan digunakan untuk melakukan web scraping. Web scraping akan dilakukan pada web Google News dan mengambil judul berita pada 15 halaman pertama tentang penundaan pemilu. Hasil judul berita dari web scraping akan disimpan pada DataFrame df_news."
   ]
  },
  {
   "cell_type": "code",
   "execution_count": 5,
   "id": "5cbb2d30",
   "metadata": {},
   "outputs": [],
   "source": [
    "# Mendefinisikan fungsi yang dapat melakukan web scraping pada google news dengan kata kunci \"Penundaan pemilu\"\n",
    "def news(link, titles):\n",
    "    req = Request(link, headers = {'User-Agent' : 'Mozilla/5.0'})\n",
    "    webpage = urlopen(req).read()\n",
    "    with requests.Session() as c:\n",
    "        soup = BeautifulSoup(webpage, 'html5lib')\n",
    "        #print(soup)\n",
    "        for item in soup.find_all('div', attrs={'class': 'ZINbbc luh4tb xpd O9g5cc uUPGi'}):\n",
    "            # Pengambilan judul berita\n",
    "            title = item.find('div', attrs={'class' : 'BNeawe vvjwJb AP7Wnd'}).get_text()\n",
    "            \n",
    "            titles.append(title)\n",
    "    \n",
    "    # Pindah ke halaman berikutnya\n",
    "    next_page = soup.find('a', attrs = {'aria-label':\"Halaman berikutnya\"})\n",
    "    next_page = next_page['href']\n",
    "    link = 'https://www.google.com/' + next_page\n",
    "    \n",
    "    return (link, titles)\n",
    "\n",
    "# Web yang akan digunakan\n",
    "root = 'https://www.google.com/'\n",
    "link = 'https://www.google.com/search?q=penundaan+pemilu&client=ms-google-coop&cx=018212539862037696382:-xa61bkyvao&tbs=qdr:w&tbm=nws&sxsrf=APq-WBt-5x9yfSf4Jc9MABPE7_FfetUPbg:1649322550899&ei=NqpOYs7BNvzD3LUPy6yCqAY&start=0&sa=N&ved=2ahUKEwjOtJCmzYH3AhX8IbcAHUuWAGU4PBDy0wN6BAgBEDg&biw=999&bih=937&dpr=1'\n",
    "\n",
    "# Web scraping hingga 16 halaman pertama pada google news\n",
    "page = 0\n",
    "titles = []\n",
    "while page < 16:\n",
    "    link, titles = news(link, titles)\n",
    "    page += 1\n",
    "    "
   ]
  },
  {
   "cell_type": "code",
   "execution_count": 6,
   "id": "9b636c92",
   "metadata": {},
   "outputs": [
    {
     "data": {
      "text/html": [
       "<div>\n",
       "<style scoped>\n",
       "    .dataframe tbody tr th:only-of-type {\n",
       "        vertical-align: middle;\n",
       "    }\n",
       "\n",
       "    .dataframe tbody tr th {\n",
       "        vertical-align: top;\n",
       "    }\n",
       "\n",
       "    .dataframe thead th {\n",
       "        text-align: right;\n",
       "    }\n",
       "</style>\n",
       "<table border=\"1\" class=\"dataframe\">\n",
       "  <thead>\n",
       "    <tr style=\"text-align: right;\">\n",
       "      <th></th>\n",
       "      <th>titles</th>\n",
       "    </tr>\n",
       "  </thead>\n",
       "  <tbody>\n",
       "    <tr>\n",
       "      <th>0</th>\n",
       "      <td>Projo Bersikap soal Penundaan Pemilu di Rakern...</td>\n",
       "    </tr>\n",
       "    <tr>\n",
       "      <th>1</th>\n",
       "      <td>PPP Nilai Jokowi Merasa Jadi Sasaran Tembak so...</td>\n",
       "    </tr>\n",
       "    <tr>\n",
       "      <th>2</th>\n",
       "      <td>Diwanti-wanti Jokowi, Zulkifli Hasan Tegas Seb...</td>\n",
       "    </tr>\n",
       "    <tr>\n",
       "      <th>3</th>\n",
       "      <td>Wiranto Pastikan Tidak Ada Perpanjangan Jabata...</td>\n",
       "    </tr>\n",
       "    <tr>\n",
       "      <th>4</th>\n",
       "      <td>Wiranto Jawab BEM Nusantara soal Penundaan Pem...</td>\n",
       "    </tr>\n",
       "    <tr>\n",
       "      <th>...</th>\n",
       "      <td>...</td>\n",
       "    </tr>\n",
       "    <tr>\n",
       "      <th>155</th>\n",
       "      <td>Proyek Pemindahan IKN Tidak Bisa Jadi Alasan P...</td>\n",
       "    </tr>\n",
       "    <tr>\n",
       "      <th>156</th>\n",
       "      <td>VIDEO: Ratusan Mahasiswa Berunjuk Rasa Menolak...</td>\n",
       "    </tr>\n",
       "    <tr>\n",
       "      <th>157</th>\n",
       "      <td>Jokowi dan Tekad APDESI untuk Penundaan Pemilu...</td>\n",
       "    </tr>\n",
       "    <tr>\n",
       "      <th>158</th>\n",
       "      <td>Apdesi Diseret ke Isu Penundaan Pemilu, Jerry ...</td>\n",
       "    </tr>\n",
       "    <tr>\n",
       "      <th>159</th>\n",
       "      <td>Ada Menteri Usul Penundaan Pemilu 2024, Pakar:...</td>\n",
       "    </tr>\n",
       "  </tbody>\n",
       "</table>\n",
       "<p>160 rows × 1 columns</p>\n",
       "</div>"
      ],
      "text/plain": [
       "                                                titles\n",
       "0    Projo Bersikap soal Penundaan Pemilu di Rakern...\n",
       "1    PPP Nilai Jokowi Merasa Jadi Sasaran Tembak so...\n",
       "2    Diwanti-wanti Jokowi, Zulkifli Hasan Tegas Seb...\n",
       "3    Wiranto Pastikan Tidak Ada Perpanjangan Jabata...\n",
       "4    Wiranto Jawab BEM Nusantara soal Penundaan Pem...\n",
       "..                                                 ...\n",
       "155  Proyek Pemindahan IKN Tidak Bisa Jadi Alasan P...\n",
       "156  VIDEO: Ratusan Mahasiswa Berunjuk Rasa Menolak...\n",
       "157  Jokowi dan Tekad APDESI untuk Penundaan Pemilu...\n",
       "158  Apdesi Diseret ke Isu Penundaan Pemilu, Jerry ...\n",
       "159  Ada Menteri Usul Penundaan Pemilu 2024, Pakar:...\n",
       "\n",
       "[160 rows x 1 columns]"
      ]
     },
     "execution_count": 6,
     "metadata": {},
     "output_type": "execute_result"
    }
   ],
   "source": [
    "# Menyimpan ke format .CSV\n",
    "# Namun karena untuk memastikan data yang digunakan sama jika .ipynb ini di run ulang,\n",
    "# maka line ini akan digantikan dengan membaca .csv yang sudah disimpan sebelumnya\n",
    "'''\n",
    "df_news = pd.DataFrame(titles, columns = ['titles'])\n",
    "df_news.to_csv(\"data_berita.csv\",index=False)\n",
    "'''\n",
    "\n",
    "df_news = pd.read_csv('data_berita.csv', header = 0)\n",
    "df_news"
   ]
  },
  {
   "cell_type": "markdown",
   "id": "55619e8a",
   "metadata": {},
   "source": [
    "# 3. Data Cleaning \n",
    "\n",
    "Data cleaning secara umum akan melalui beberapa tahap yaitu Case Folding, Slang Word, Stopwords, dan penghapusan duplikat. \n",
    "\n",
    "Untuk Slang Word akan digunakan kamus Slang Word dari link berikut: https://github.com/louisowen6/NLP_bahasa_resources/blob/master/combined_slang_words.txt. \n",
    "\n",
    "Sedangkan untuk stopwords, akan ditambahkan beberapa stopwords baru seperti pemilu, penundaan, prokes, ibadah, aman, bentuk, vaksin, dan puasa. Pemilihan dari kata-kata khusus ini sebagai stopwords dikarenakan berbagai alasan yaitu merupakan judul dari topik (penundaan dan pemilu) dan kata-kata yang sering diulang serta di-spam karena merupakan seruan atau ajakan di dalam tweet tertentu (seperti seruan vaksin, ibadah, puasa, dll).\n",
    "\n",
    "Penghapusan duplikat dilakukan karena banyak sekali tweet yang berulang-ulang (spam tweet) sehingga akan menyulitkan untuk melakukan analisis sentimen nantinya."
   ]
  },
  {
   "cell_type": "markdown",
   "id": "63f6b4fd",
   "metadata": {},
   "source": [
    "## 3.1 Data Cleaning pada DataFrame Tweet"
   ]
  },
  {
   "cell_type": "code",
   "execution_count": 7,
   "id": "a67150b2",
   "metadata": {},
   "outputs": [],
   "source": [
    "# Case folding\n",
    "tweets = list(map(lambda x: x.lower(),tweets))\n",
    "tweets = list(map(lambda x : ' '.join(re.sub(\"(@[A-Za-z0-9]+)|([^A-Za-z \\t])|(\\w+:\\/\\/\\S+)|(\\d+)\", \" \", x).split()),tweets))\n",
    "\n",
    "# Slang word\n",
    "slangword = eval(open(\"slangwords.txt\").read())\n",
    "pattern = re.compile(r'\\b( ' + '|'.join (slangword.keys())+r')\\b')\n",
    "\n",
    "content = []\n",
    "for kata in tweets:\n",
    "    filteredSlang = pattern.sub(lambda x: slangword[x.group()],kata)\n",
    "    content.append(filteredSlang.lower())\n",
    "tweets = content\n",
    "\n",
    "# Stopwords\n",
    "stop_words = set(stopwords.words('indonesian'))\n",
    "stop_words.add('pemilu')\n",
    "stop_words.add('penundaan')\n",
    "stop_words.add('prokes')\n",
    "stop_words.add('ibadah')\n",
    "stop_words.add('aman')\n",
    "stop_words.add('bentuk')\n",
    "stop_words.add('vaksin')\n",
    "stop_words.add('puasa')\n",
    "tweets_clean = []\n",
    "for i in range(len(tweets)):\n",
    "    word_tokens = word_tokenize(tweets[i]) \n",
    "    tweets_clean.append(' '.join([w for w in word_tokens if not w in stop_words]))\n",
    "    \n",
    "df_tweets['clean_tweet'] = tweets_clean\n",
    "\n",
    "#Drop Duplicates\n",
    "df_tweets.drop_duplicates(subset =\"clean_tweet\",\n",
    "                     keep = False, inplace = True)"
   ]
  },
  {
   "cell_type": "code",
   "execution_count": 8,
   "id": "46294026",
   "metadata": {},
   "outputs": [],
   "source": [
    "df_tweets = df_tweets.reset_index(drop=True)"
   ]
  },
  {
   "cell_type": "code",
   "execution_count": 9,
   "id": "106b0a35",
   "metadata": {},
   "outputs": [
    {
     "data": {
      "text/html": [
       "<div>\n",
       "<style scoped>\n",
       "    .dataframe tbody tr th:only-of-type {\n",
       "        vertical-align: middle;\n",
       "    }\n",
       "\n",
       "    .dataframe tbody tr th {\n",
       "        vertical-align: top;\n",
       "    }\n",
       "\n",
       "    .dataframe thead th {\n",
       "        text-align: right;\n",
       "    }\n",
       "</style>\n",
       "<table border=\"1\" class=\"dataframe\">\n",
       "  <thead>\n",
       "    <tr style=\"text-align: right;\">\n",
       "      <th></th>\n",
       "      <th>tweets</th>\n",
       "      <th>clean_tweet</th>\n",
       "    </tr>\n",
       "  </thead>\n",
       "  <tbody>\n",
       "    <tr>\n",
       "      <th>0</th>\n",
       "      <td>\"Kalau Pak Luhut ya monggo saja, bisa evaluasi...</td>\n",
       "      <td>luhut iya monggo evaluasi orang beliau prime m...</td>\n",
       "    </tr>\n",
       "    <tr>\n",
       "      <th>1</th>\n",
       "      <td>Mahasiswa Lebak Tolak Penundaan Pemilu dan Jok...</td>\n",
       "      <td>mahasiswa lebak tolak jokowi periode april pre...</td>\n",
       "    </tr>\n",
       "    <tr>\n",
       "      <th>2</th>\n",
       "      <td>@muispebrianto Saya prihatin melihat ini, masi...</td>\n",
       "      <td>prihatin menggoreng presiden periode sebenerny...</td>\n",
       "    </tr>\n",
       "    <tr>\n",
       "      <th>3</th>\n",
       "      <td>Ketum parpol yg lempar isu.pemerintah Jokowi,M...</td>\n",
       "      <td>ketum partai politik lempar isu pemerintah jok...</td>\n",
       "    </tr>\n",
       "    <tr>\n",
       "      <th>4</th>\n",
       "      <td>@chinta_chintata Stop isu penundaan pemilu</td>\n",
       "      <td>chintata stop isu</td>\n",
       "    </tr>\n",
       "    <tr>\n",
       "      <th>...</th>\n",
       "      <td>...</td>\n",
       "      <td>...</td>\n",
       "    </tr>\n",
       "    <tr>\n",
       "      <th>2617</th>\n",
       "      <td>FAM UI :\\nHentikan isu penundaan pemilu dan pe...</td>\n",
       "      <td>fam ui hentikan isu perpanjangan jabatan presi...</td>\n",
       "    </tr>\n",
       "    <tr>\n",
       "      <th>2618</th>\n",
       "      <td>@VIVAcoid PDIP banyak PKI,apakah TNI juga ada....</td>\n",
       "      <td>pdip pki tni diam pki resmi peserta periode ramai</td>\n",
       "    </tr>\n",
       "    <tr>\n",
       "      <th>2619</th>\n",
       "      <td>Tekanan kpd jkw utk penundaan pemilu atw pun 3...</td>\n",
       "      <td>tekanan jkw atw periode tandanya kuat jk kekua...</td>\n",
       "    </tr>\n",
       "    <tr>\n",
       "      <th>2620</th>\n",
       "      <td>Penundaan pemilu 2024 bukan hanya akan memperp...</td>\n",
       "      <td>memperpanjang jabatan presiden wakil presiden ...</td>\n",
       "    </tr>\n",
       "    <tr>\n",
       "      <th>2621</th>\n",
       "      <td>2019 Ganti Presiden disebut Makar katanya mela...</td>\n",
       "      <td>ganti presiden makar melanggar konstitusi hti ...</td>\n",
       "    </tr>\n",
       "  </tbody>\n",
       "</table>\n",
       "<p>2622 rows × 2 columns</p>\n",
       "</div>"
      ],
      "text/plain": [
       "                                                 tweets  \\\n",
       "0     \"Kalau Pak Luhut ya monggo saja, bisa evaluasi...   \n",
       "1     Mahasiswa Lebak Tolak Penundaan Pemilu dan Jok...   \n",
       "2     @muispebrianto Saya prihatin melihat ini, masi...   \n",
       "3     Ketum parpol yg lempar isu.pemerintah Jokowi,M...   \n",
       "4            @chinta_chintata Stop isu penundaan pemilu   \n",
       "...                                                 ...   \n",
       "2617  FAM UI :\\nHentikan isu penundaan pemilu dan pe...   \n",
       "2618  @VIVAcoid PDIP banyak PKI,apakah TNI juga ada....   \n",
       "2619  Tekanan kpd jkw utk penundaan pemilu atw pun 3...   \n",
       "2620  Penundaan pemilu 2024 bukan hanya akan memperp...   \n",
       "2621  2019 Ganti Presiden disebut Makar katanya mela...   \n",
       "\n",
       "                                            clean_tweet  \n",
       "0     luhut iya monggo evaluasi orang beliau prime m...  \n",
       "1     mahasiswa lebak tolak jokowi periode april pre...  \n",
       "2     prihatin menggoreng presiden periode sebenerny...  \n",
       "3     ketum partai politik lempar isu pemerintah jok...  \n",
       "4                                     chintata stop isu  \n",
       "...                                                 ...  \n",
       "2617  fam ui hentikan isu perpanjangan jabatan presi...  \n",
       "2618  pdip pki tni diam pki resmi peserta periode ramai  \n",
       "2619  tekanan jkw atw periode tandanya kuat jk kekua...  \n",
       "2620  memperpanjang jabatan presiden wakil presiden ...  \n",
       "2621  ganti presiden makar melanggar konstitusi hti ...  \n",
       "\n",
       "[2622 rows x 2 columns]"
      ]
     },
     "execution_count": 9,
     "metadata": {},
     "output_type": "execute_result"
    }
   ],
   "source": [
    "df_tweets"
   ]
  },
  {
   "cell_type": "markdown",
   "id": "0f2818d8",
   "metadata": {},
   "source": [
    "Dari hasil proses cleaning data tweet, dapat dilihat bahwa terjadi penurunan jumlah tweet yang dari yang awalnya adalah 5149 tweet, menjadi 2622 tweet. Ini artinya, setelah dilakukan pembersihan, terdapat banyak tweet-tweet yang sama atau duplikat yang mana merupakan bentuk dari spam."
   ]
  },
  {
   "cell_type": "markdown",
   "id": "c266fb86",
   "metadata": {},
   "source": [
    "# 3.2 Data Cleaning pada DataFrame Berita"
   ]
  },
  {
   "cell_type": "code",
   "execution_count": 10,
   "id": "0c184fe7",
   "metadata": {},
   "outputs": [],
   "source": [
    "# Case folding\n",
    "\n",
    "titles = list(map(lambda x: x.lower(),titles))\n",
    "titles = list(map(lambda x : ' '.join(re.sub(\"(@[A-Za-z0-9]+)|([^A-Za-z \\t])|(\\w+:\\/\\/\\S+)|(\\d+)\", \" \", x).split()),titles))\n",
    "\n",
    "# Slang word\n",
    "slangword = eval(open(\"slangwords.txt\").read())\n",
    "pattern = re.compile(r'\\b( ' + '|'.join (slangword.keys())+r')\\b')\n",
    "\n",
    "content = []\n",
    "for kata in titles:\n",
    "    filteredSlang = pattern.sub(lambda x: slangword[x.group()],kata)\n",
    "    content.append(filteredSlang.lower())\n",
    "titles = content\n",
    "\n",
    "# Stopwords\n",
    "titles_clean = []\n",
    "for i in range(len(titles)):\n",
    "    word_tokens = word_tokenize(titles[i]) \n",
    "    titles_clean.append(' '.join([w for w in word_tokens if not w in stop_words]))"
   ]
  },
  {
   "cell_type": "code",
   "execution_count": 11,
   "id": "d4115517",
   "metadata": {},
   "outputs": [
    {
     "data": {
      "text/html": [
       "<div>\n",
       "<style scoped>\n",
       "    .dataframe tbody tr th:only-of-type {\n",
       "        vertical-align: middle;\n",
       "    }\n",
       "\n",
       "    .dataframe tbody tr th {\n",
       "        vertical-align: top;\n",
       "    }\n",
       "\n",
       "    .dataframe thead th {\n",
       "        text-align: right;\n",
       "    }\n",
       "</style>\n",
       "<table border=\"1\" class=\"dataframe\">\n",
       "  <thead>\n",
       "    <tr style=\"text-align: right;\">\n",
       "      <th></th>\n",
       "      <th>titles</th>\n",
       "      <th>titles_clean</th>\n",
       "    </tr>\n",
       "  </thead>\n",
       "  <tbody>\n",
       "    <tr>\n",
       "      <th>0</th>\n",
       "      <td>Projo Bersikap soal Penundaan Pemilu di Rakern...</td>\n",
       "      <td>projo bersikap rakernas mei jokowi hadir</td>\n",
       "    </tr>\n",
       "    <tr>\n",
       "      <th>1</th>\n",
       "      <td>PPP Nilai Jokowi Merasa Jadi Sasaran Tembak so...</td>\n",
       "      <td>ppp nilai jokowi sasaran tembak tegur menteri ...</td>\n",
       "    </tr>\n",
       "    <tr>\n",
       "      <th>2</th>\n",
       "      <td>Diwanti-wanti Jokowi, Zulkifli Hasan Tegas Seb...</td>\n",
       "      <td>diwanti wanti jokowi zulkifli hasan wacana ter...</td>\n",
       "    </tr>\n",
       "    <tr>\n",
       "      <th>3</th>\n",
       "      <td>Wiranto Pastikan Tidak Ada Perpanjangan Jabata...</td>\n",
       "      <td>wiranto pastikan perpanjangan jabatan presiden</td>\n",
       "    </tr>\n",
       "    <tr>\n",
       "      <th>4</th>\n",
       "      <td>Wiranto Jawab BEM Nusantara soal Penundaan Pem...</td>\n",
       "      <td>wiranto bem nusantara merdeka com</td>\n",
       "    </tr>\n",
       "    <tr>\n",
       "      <th>...</th>\n",
       "      <td>...</td>\n",
       "      <td>...</td>\n",
       "    </tr>\n",
       "    <tr>\n",
       "      <th>155</th>\n",
       "      <td>Proyek Pemindahan IKN Tidak Bisa Jadi Alasan P...</td>\n",
       "      <td>ribuan mahasiswa masyarakat kaltim bergerak tolak</td>\n",
       "    </tr>\n",
       "    <tr>\n",
       "      <th>156</th>\n",
       "      <td>VIDEO: Ratusan Mahasiswa Berunjuk Rasa Menolak...</td>\n",
       "      <td>gerakan diorkestra orang istana</td>\n",
       "    </tr>\n",
       "    <tr>\n",
       "      <th>157</th>\n",
       "      <td>Jokowi dan Tekad APDESI untuk Penundaan Pemilu...</td>\n",
       "      <td>sorotan berita surat palsu ksp perampok bank b...</td>\n",
       "    </tr>\n",
       "    <tr>\n",
       "      <th>158</th>\n",
       "      <td>Apdesi Diseret ke Isu Penundaan Pemilu, Jerry ...</td>\n",
       "      <td>respons setneg mahasiswa ancam demo isu</td>\n",
       "    </tr>\n",
       "    <tr>\n",
       "      <th>159</th>\n",
       "      <td>Ada Menteri Usul Penundaan Pemilu 2024, Pakar:...</td>\n",
       "      <td>presiden muncul wacana periode inisiatifnews com</td>\n",
       "    </tr>\n",
       "  </tbody>\n",
       "</table>\n",
       "<p>160 rows × 2 columns</p>\n",
       "</div>"
      ],
      "text/plain": [
       "                                                titles  \\\n",
       "0    Projo Bersikap soal Penundaan Pemilu di Rakern...   \n",
       "1    PPP Nilai Jokowi Merasa Jadi Sasaran Tembak so...   \n",
       "2    Diwanti-wanti Jokowi, Zulkifli Hasan Tegas Seb...   \n",
       "3    Wiranto Pastikan Tidak Ada Perpanjangan Jabata...   \n",
       "4    Wiranto Jawab BEM Nusantara soal Penundaan Pem...   \n",
       "..                                                 ...   \n",
       "155  Proyek Pemindahan IKN Tidak Bisa Jadi Alasan P...   \n",
       "156  VIDEO: Ratusan Mahasiswa Berunjuk Rasa Menolak...   \n",
       "157  Jokowi dan Tekad APDESI untuk Penundaan Pemilu...   \n",
       "158  Apdesi Diseret ke Isu Penundaan Pemilu, Jerry ...   \n",
       "159  Ada Menteri Usul Penundaan Pemilu 2024, Pakar:...   \n",
       "\n",
       "                                          titles_clean  \n",
       "0             projo bersikap rakernas mei jokowi hadir  \n",
       "1    ppp nilai jokowi sasaran tembak tegur menteri ...  \n",
       "2    diwanti wanti jokowi zulkifli hasan wacana ter...  \n",
       "3       wiranto pastikan perpanjangan jabatan presiden  \n",
       "4                    wiranto bem nusantara merdeka com  \n",
       "..                                                 ...  \n",
       "155  ribuan mahasiswa masyarakat kaltim bergerak tolak  \n",
       "156                    gerakan diorkestra orang istana  \n",
       "157  sorotan berita surat palsu ksp perampok bank b...  \n",
       "158            respons setneg mahasiswa ancam demo isu  \n",
       "159   presiden muncul wacana periode inisiatifnews com  \n",
       "\n",
       "[160 rows x 2 columns]"
      ]
     },
     "execution_count": 11,
     "metadata": {},
     "output_type": "execute_result"
    }
   ],
   "source": [
    "df_news['titles_clean'] = titles_clean\n",
    "df_news"
   ]
  },
  {
   "cell_type": "markdown",
   "id": "792e18b1",
   "metadata": {},
   "source": [
    "# 4. Data Processing"
   ]
  },
  {
   "cell_type": "markdown",
   "id": "fdd631b7",
   "metadata": {},
   "source": [
    "## 4.1 Distribusi frekuensi karakter per tweet"
   ]
  },
  {
   "cell_type": "code",
   "execution_count": 12,
   "id": "4ad11e7f",
   "metadata": {
    "scrolled": true
   },
   "outputs": [
    {
     "data": {
      "image/png": "[encoded data removed]",
      "text/plain": [
       "<Figure size 432x288 with 1 Axes>"
      ]
     },
     "metadata": {
      "needs_background": "light"
     },
     "output_type": "display_data"
    }
   ],
   "source": [
    "bin_range = np.arange(0, 300, 10)\n",
    "df_tweets['clean_tweet'].str.len().hist(bins=bin_range)\n",
    "plt.show()"
   ]
  },
  {
   "cell_type": "markdown",
   "id": "2025ea07",
   "metadata": {},
   "source": [
    "## 4.2 Distribusi panjang kata per tweet"
   ]
  },
  {
   "cell_type": "code",
   "execution_count": 13,
   "id": "cb0e6fcc",
   "metadata": {},
   "outputs": [
    {
     "data": {
      "image/png": "[encoded data removed]",
      "text/plain": [
       "<Figure size 432x288 with 1 Axes>"
      ]
     },
     "metadata": {
      "needs_background": "light"
     },
     "output_type": "display_data"
    }
   ],
   "source": [
    "bin_range = np.arange(0, 60)\n",
    "df_tweets['clean_tweet'].str.split().map(lambda x: len(x)).hist(bins=bin_range)\n",
    "plt.show()"
   ]
  },
  {
   "cell_type": "markdown",
   "id": "ea2f26d7",
   "metadata": {},
   "source": [
    "## 4.3 Distribusi panjang rata-rata kata per tweet"
   ]
  },
  {
   "cell_type": "code",
   "execution_count": 14,
   "id": "30b91828",
   "metadata": {},
   "outputs": [
    {
     "data": {
      "image/png": "[encoded data removed]",
      "text/plain": [
       "<Figure size 432x288 with 1 Axes>"
      ]
     },
     "metadata": {
      "needs_background": "light"
     },
     "output_type": "display_data"
    }
   ],
   "source": [
    "df_tweets['clean_tweet'].str.split().apply(lambda x : [len(i) for i in x]).map(lambda x: np.mean(x)).hist()\n",
    "plt.show()"
   ]
  },
  {
   "cell_type": "markdown",
   "id": "7be2dbd4",
   "metadata": {},
   "source": [
    "## 4.4 Distribusi kata"
   ]
  },
  {
   "cell_type": "code",
   "execution_count": 15,
   "id": "a2be105f",
   "metadata": {},
   "outputs": [
    {
     "name": "stdout",
     "output_type": "stream",
     "text": [
      "<FreqDist with 5734 samples and 30145 outcomes>\n",
      "[('presiden', 1156), ('jokowi', 997), ('jabatan', 694), ('periode', 676), ('perpanjangan', 603), ('menteri', 564), ('bicara', 496), ('wacana', 361), ('isu', 319), ('rakyat', 289), ('tolak', 270), ('mahasiswa', 261), ('menolak', 258), ('konstitusi', 209), ('larang', 196), ('luhut', 183), ('fokus', 168), ('menterinya', 167), ('amp', 164), ('iya', 157)]\n"
     ]
    },
    {
     "data": {
      "image/png": "[encoded data removed]",
      "text/plain": [
       "<Figure size 432x288 with 1 Axes>"
      ]
     },
     "metadata": {
      "needs_background": "light"
     },
     "output_type": "display_data"
    }
   ],
   "source": [
    "tweets_token = [word for tweet in df_tweets['clean_tweet'].apply(lambda x: word_tokenize(str(x))) for word in tweet]\n",
    "fqdist = FreqDist(tweets_token)\n",
    "print(fqdist)\n",
    "most_common_word = fqdist.most_common(20)\n",
    "print(most_common_word)\n",
    "fqdist.plot(20,cumulative=False)\n",
    "plt.show()"
   ]
  },
  {
   "cell_type": "markdown",
   "id": "4a92d889",
   "metadata": {},
   "source": [
    "Dari distribusi kata yang muncul, presiden Jokowi merupakan 2 kata yang paling sering muncul. Hal ini karena penundaan pemilu otomatis akan berpengaruh langsung kepada presiden dimana akan memperpanjang masa jabatan presiden. "
   ]
  },
  {
   "cell_type": "markdown",
   "id": "e81bb6d8",
   "metadata": {},
   "source": [
    "## 4.5 N-gram \n",
    "\n",
    "Distribusi N-gram dengan 2 sampai 4 kata akan dilakukan untuk mengetahui frasa yang sering muncul pada data tweet yang dikumpulkan."
   ]
  },
  {
   "cell_type": "code",
   "execution_count": 16,
   "id": "9a50e216",
   "metadata": {},
   "outputs": [
    {
     "data": {
      "text/plain": [
       "(perpanjangan, jabatan)    486\n",
       "(jabatan, presiden)        426\n",
       "(presiden, jokowi)         211\n",
       "(menteri, bicara)          172\n",
       "(larang, menteri)          149\n",
       "(presiden, periode)        143\n",
       "(jokowi, larang)           111\n",
       "(joko, widodo)              81\n",
       "(big, data)                 78\n",
       "(bicara, perpanjangan)      68\n",
       "dtype: int64"
      ]
     },
     "execution_count": 16,
     "metadata": {},
     "output_type": "execute_result"
    }
   ],
   "source": [
    "# N gram 2 kata\n",
    "pd.Series(nltk.ngrams(tweets_token, 2)).value_counts()[:10]"
   ]
  },
  {
   "cell_type": "code",
   "execution_count": 17,
   "id": "715c548c",
   "metadata": {},
   "outputs": [
    {
     "data": {
      "text/plain": [
       "(perpanjangan, jabatan, presiden)    318\n",
       "(larang, menteri, bicara)            123\n",
       "(jokowi, larang, menteri)             83\n",
       "(jabatan, presiden, periode)          83\n",
       "(presiden, joko, widodo)              66\n",
       "(bicara, perpanjangan, jabatan)       58\n",
       "(wacana, perpanjangan, jabatan)       52\n",
       "(presiden, larang, menteri)           50\n",
       "(menolak, perpanjangan, jabatan)      47\n",
       "(ahy, demokrat, terbaik)              43\n",
       "dtype: int64"
      ]
     },
     "execution_count": 17,
     "metadata": {},
     "output_type": "execute_result"
    }
   ],
   "source": [
    "# N gram 3 kata\n",
    "pd.Series(nltk.ngrams(tweets_token, 3)).value_counts()[:10]"
   ]
  },
  {
   "cell_type": "code",
   "execution_count": 18,
   "id": "a8821651",
   "metadata": {},
   "outputs": [
    {
     "data": {
      "text/plain": [
       "(jokowi, larang, menteri, bicara)                 66\n",
       "(presiden, larang, menteri, bicara)               47\n",
       "(wacana, perpanjangan, jabatan, presiden)         44\n",
       "(perpanjangan, jabatan, presiden, periode)        34\n",
       "(isu, perpanjangan, jabatan, presiden)            31\n",
       "(tolak, perpanjangan, jabatan, presiden)          26\n",
       "(menyuarakan, perpanjangan, jabatan, presiden)    24\n",
       "(bicara, perpanjangan, jabatan, presiden)         21\n",
       "(menolak, perpanjangan, jabatan, presiden)        21\n",
       "(presiden, joko, widodo, melarang)                21\n",
       "dtype: int64"
      ]
     },
     "execution_count": 18,
     "metadata": {},
     "output_type": "execute_result"
    }
   ],
   "source": [
    "# N gram 4 kata\n",
    "pd.Series(nltk.ngrams(tweets_token, 4)).value_counts()[:10]"
   ]
  },
  {
   "cell_type": "markdown",
   "id": "f04e4662",
   "metadata": {},
   "source": [
    "## 4.6 Sentiment Analysis "
   ]
  },
  {
   "cell_type": "code",
   "execution_count": 19,
   "id": "150ad25d",
   "metadata": {},
   "outputs": [],
   "source": [
    "# Membuka kamus kata-kata yang positif dan kata-kata yang negatif\n",
    "with open(\"./kata_positif.txt\",\"r\") as positif_file :\n",
    "  positive_words = list(set(positif_file.readlines()))\n",
    "with open(\"./kata_negatif.txt\",\"r\") as negative_file :\n",
    "  negative_words = list(set(negative_file.readlines()))"
   ]
  },
  {
   "cell_type": "code",
   "execution_count": 20,
   "id": "171638dc",
   "metadata": {},
   "outputs": [],
   "source": [
    "# Melakukan analisis sentimen terhadap suatu tweet berdasarkan jumlah kata positif dan negatif yang ada di tweet\n",
    "hasil = []\n",
    "tweets = df_tweets['clean_tweet']\n",
    "for tweet in tweets:\n",
    "\n",
    "    tweet_clean = tweet.strip().split()\n",
    "    \n",
    "    good_count = 0 #nilai positif\n",
    "    bad_count = 0 #nilai negatif\n",
    "\n",
    "    for good_word in positive_words:\n",
    "        count = tweet_clean.count(good_word.strip().lower())\n",
    "        if count > 0:\n",
    "          good_count += count\n",
    "\n",
    "    for bad_word in negative_words:\n",
    "        count = tweet_clean.count(bad_word.strip().lower())\n",
    "        if count > 0:\n",
    "          bad_count += count\n",
    "    \n",
    "    hasil.append(good_count - bad_count)\n",
    "    "
   ]
  },
  {
   "cell_type": "code",
   "execution_count": 21,
   "id": "6f3f70db",
   "metadata": {},
   "outputs": [],
   "source": [
    "sentiments = [\"positif\" if sentimen > 0 else (\"netral\" if sentimen == 0 else \"negatif\") for sentimen in hasil]\n",
    "df_tweets[\"sentiment\"] = sentiments"
   ]
  },
  {
   "cell_type": "code",
   "execution_count": 22,
   "id": "b377a930",
   "metadata": {},
   "outputs": [
    {
     "name": "stdout",
     "output_type": "stream",
     "text": [
      "\n",
      "Mean: -0.4492753623188406\n",
      "Median: 0.0\n",
      "quartil awal: -1.0\n",
      "quartil akhir: 0.0\n",
      "Standar deviasi: 1.4473671648325435     \n",
      "\n"
     ]
    }
   ],
   "source": [
    "print (f'''\n",
    "Mean: {np.mean(hasil)}\n",
    "Median: {np.median(hasil)}\n",
    "quartil awal: {np.quantile(hasil,0.25)}\n",
    "quartil akhir: {np.quantile(hasil,0.75)}\n",
    "Standar deviasi: {np.std(hasil)}     \n",
    "''')"
   ]
  },
  {
   "cell_type": "code",
   "execution_count": 23,
   "id": "6e5eead5",
   "metadata": {},
   "outputs": [
    {
     "data": {
      "image/png": "[encoded data removed]",
      "text/plain": [
       "<Figure size 432x288 with 1 Axes>"
      ]
     },
     "metadata": {
      "needs_background": "light"
     },
     "output_type": "display_data"
    }
   ],
   "source": [
    "c = Counter(hasil)\n",
    "\n",
    "plt.bar(c.keys(), c.values())\n",
    "plt.title(f'Sentiment Distribution')\n",
    "plt.xlabel('Labels')\n",
    "plt.ylabel('Counts')\n",
    "plt.xlim([-10, 10])\n",
    "plt.xticks(np.arange(-10, 11, 1.0))\n",
    "plt.show()"
   ]
  },
  {
   "cell_type": "code",
   "execution_count": 24,
   "id": "ac4401e1",
   "metadata": {},
   "outputs": [
    {
     "data": {
      "text/html": [
       "<div>\n",
       "<style scoped>\n",
       "    .dataframe tbody tr th:only-of-type {\n",
       "        vertical-align: middle;\n",
       "    }\n",
       "\n",
       "    .dataframe tbody tr th {\n",
       "        vertical-align: top;\n",
       "    }\n",
       "\n",
       "    .dataframe thead th {\n",
       "        text-align: right;\n",
       "    }\n",
       "</style>\n",
       "<table border=\"1\" class=\"dataframe\">\n",
       "  <thead>\n",
       "    <tr style=\"text-align: right;\">\n",
       "      <th></th>\n",
       "      <th>tweets</th>\n",
       "      <th>clean_tweet</th>\n",
       "      <th>sentiment</th>\n",
       "    </tr>\n",
       "  </thead>\n",
       "  <tbody>\n",
       "    <tr>\n",
       "      <th>0</th>\n",
       "      <td>\"Kalau Pak Luhut ya monggo saja, bisa evaluasi...</td>\n",
       "      <td>luhut iya monggo evaluasi orang beliau prime m...</td>\n",
       "      <td>positif</td>\n",
       "    </tr>\n",
       "    <tr>\n",
       "      <th>1</th>\n",
       "      <td>Mahasiswa Lebak Tolak Penundaan Pemilu dan Jok...</td>\n",
       "      <td>mahasiswa lebak tolak jokowi periode april pre...</td>\n",
       "      <td>netral</td>\n",
       "    </tr>\n",
       "    <tr>\n",
       "      <th>2</th>\n",
       "      <td>@muispebrianto Saya prihatin melihat ini, masi...</td>\n",
       "      <td>prihatin menggoreng presiden periode sebenerny...</td>\n",
       "      <td>netral</td>\n",
       "    </tr>\n",
       "    <tr>\n",
       "      <th>3</th>\n",
       "      <td>Ketum parpol yg lempar isu.pemerintah Jokowi,M...</td>\n",
       "      <td>ketum partai politik lempar isu pemerintah jok...</td>\n",
       "      <td>negatif</td>\n",
       "    </tr>\n",
       "    <tr>\n",
       "      <th>4</th>\n",
       "      <td>@chinta_chintata Stop isu penundaan pemilu</td>\n",
       "      <td>chintata stop isu</td>\n",
       "      <td>negatif</td>\n",
       "    </tr>\n",
       "    <tr>\n",
       "      <th>...</th>\n",
       "      <td>...</td>\n",
       "      <td>...</td>\n",
       "      <td>...</td>\n",
       "    </tr>\n",
       "    <tr>\n",
       "      <th>2617</th>\n",
       "      <td>FAM UI :\\nHentikan isu penundaan pemilu dan pe...</td>\n",
       "      <td>fam ui hentikan isu perpanjangan jabatan presi...</td>\n",
       "      <td>negatif</td>\n",
       "    </tr>\n",
       "    <tr>\n",
       "      <th>2618</th>\n",
       "      <td>@VIVAcoid PDIP banyak PKI,apakah TNI juga ada....</td>\n",
       "      <td>pdip pki tni diam pki resmi peserta periode ramai</td>\n",
       "      <td>positif</td>\n",
       "    </tr>\n",
       "    <tr>\n",
       "      <th>2619</th>\n",
       "      <td>Tekanan kpd jkw utk penundaan pemilu atw pun 3...</td>\n",
       "      <td>tekanan jkw atw periode tandanya kuat jk kekua...</td>\n",
       "      <td>positif</td>\n",
       "    </tr>\n",
       "    <tr>\n",
       "      <th>2620</th>\n",
       "      <td>Penundaan pemilu 2024 bukan hanya akan memperp...</td>\n",
       "      <td>memperpanjang jabatan presiden wakil presiden ...</td>\n",
       "      <td>netral</td>\n",
       "    </tr>\n",
       "    <tr>\n",
       "      <th>2621</th>\n",
       "      <td>2019 Ganti Presiden disebut Makar katanya mela...</td>\n",
       "      <td>ganti presiden makar melanggar konstitusi hti ...</td>\n",
       "      <td>negatif</td>\n",
       "    </tr>\n",
       "  </tbody>\n",
       "</table>\n",
       "<p>2622 rows × 3 columns</p>\n",
       "</div>"
      ],
      "text/plain": [
       "                                                 tweets  \\\n",
       "0     \"Kalau Pak Luhut ya monggo saja, bisa evaluasi...   \n",
       "1     Mahasiswa Lebak Tolak Penundaan Pemilu dan Jok...   \n",
       "2     @muispebrianto Saya prihatin melihat ini, masi...   \n",
       "3     Ketum parpol yg lempar isu.pemerintah Jokowi,M...   \n",
       "4            @chinta_chintata Stop isu penundaan pemilu   \n",
       "...                                                 ...   \n",
       "2617  FAM UI :\\nHentikan isu penundaan pemilu dan pe...   \n",
       "2618  @VIVAcoid PDIP banyak PKI,apakah TNI juga ada....   \n",
       "2619  Tekanan kpd jkw utk penundaan pemilu atw pun 3...   \n",
       "2620  Penundaan pemilu 2024 bukan hanya akan memperp...   \n",
       "2621  2019 Ganti Presiden disebut Makar katanya mela...   \n",
       "\n",
       "                                            clean_tweet sentiment  \n",
       "0     luhut iya monggo evaluasi orang beliau prime m...   positif  \n",
       "1     mahasiswa lebak tolak jokowi periode april pre...    netral  \n",
       "2     prihatin menggoreng presiden periode sebenerny...    netral  \n",
       "3     ketum partai politik lempar isu pemerintah jok...   negatif  \n",
       "4                                     chintata stop isu   negatif  \n",
       "...                                                 ...       ...  \n",
       "2617  fam ui hentikan isu perpanjangan jabatan presi...   negatif  \n",
       "2618  pdip pki tni diam pki resmi peserta periode ramai   positif  \n",
       "2619  tekanan jkw atw periode tandanya kuat jk kekua...   positif  \n",
       "2620  memperpanjang jabatan presiden wakil presiden ...    netral  \n",
       "2621  ganti presiden makar melanggar konstitusi hti ...   negatif  \n",
       "\n",
       "[2622 rows x 3 columns]"
      ]
     },
     "execution_count": 24,
     "metadata": {},
     "output_type": "execute_result"
    }
   ],
   "source": [
    "df_tweets"
   ]
  },
  {
   "cell_type": "markdown",
   "id": "206bc547",
   "metadata": {},
   "source": [
    "Dari hasil sentimen analisis menggunakan kamus kata positif dan kata negatif, kebanyakan tweet memiliki sentimen netral namun cenderung lebih banyak yang mengarah ke sentimen negatif dibandingkan dengan sentimen positif. Dapat disimpulkan sentimen terkait isu penundaan pemilu ini adalah lebih ke negatif dan tidak baik."
   ]
  },
  {
   "cell_type": "markdown",
   "id": "adcc5139",
   "metadata": {},
   "source": [
    "## 4.7 Topic analysis "
   ]
  },
  {
   "cell_type": "markdown",
   "id": "f8b43c26",
   "metadata": {},
   "source": [
    "Analisis topik akan dilakukan untuk mengetahui secara lebih spesifik topik-topik apa saja yang dibahas oleh warganet twitter terkait isu penundaan pemilu.\n",
    "\n",
    "Dari hasil tuning dan optimasi dari parameter-parameter (alpha, beta, dan jumlah topik), didapat bahwa nilai yang optimum untuk masing-masing parameter adalah alpha = 0.31, beta = 0.91, dan jumlah topik sama dengan 5. Proses tuning ini tidak akan dimasukkan ke dalam file .ipynb ini karena akan memakan waktu yang lama."
   ]
  },
  {
   "cell_type": "code",
   "execution_count": 25,
   "id": "e56c0ba1",
   "metadata": {},
   "outputs": [],
   "source": [
    "data_tweet = [tweet.split() for tweet in df_tweets[\"clean_tweet\"]]"
   ]
  },
  {
   "cell_type": "code",
   "execution_count": 26,
   "id": "84286e84",
   "metadata": {},
   "outputs": [],
   "source": [
    "dictionary = corpora.Dictionary(data_tweet)\n",
    "doc_term_matrix = [dictionary.doc2bow(doc) for doc in data_tweet]"
   ]
  },
  {
   "cell_type": "code",
   "execution_count": 27,
   "id": "c1105eb9",
   "metadata": {},
   "outputs": [
    {
     "name": "stdout",
     "output_type": "stream",
     "text": [
      "[(0,\n",
      "  '0.035*\"jokowi\" + 0.031*\"bicara\" + 0.028*\"menteri\" + 0.015*\"larang\" + '\n",
      "  '0.012*\"presiden\" + 0.009*\"isu\" + 0.008*\"fokus\" + 0.008*\"luhut\" + '\n",
      "  '0.007*\"kerja\" + 0.006*\"booster\"'),\n",
      " (1,\n",
      "  '0.049*\"presiden\" + 0.034*\"jabatan\" + 0.029*\"periode\" + 0.029*\"perpanjangan\" '\n",
      "  '+ 0.027*\"jokowi\" + 0.013*\"wacana\" + 0.013*\"tolak\" + 0.012*\"menolak\" + '\n",
      "  '0.009*\"mahasiswa\" + 0.009*\"menteri\"'),\n",
      " (2,\n",
      "  '0.014*\"demokrat\" + 0.012*\"ahy\" + 0.009*\"isu\" + 0.008*\"terbaik\" + '\n",
      "  '0.005*\"rakyat\" + 0.004*\"amp\" + 0.004*\"iya\" + 0.004*\"bohong\" + '\n",
      "  '0.004*\"provokasi\" + 0.004*\"mahasiswa\"'),\n",
      " (3,\n",
      "  '0.013*\"data\" + 0.012*\"luhut\" + 0.011*\"big\" + 0.008*\"harga\" + '\n",
      "  '0.005*\"periode\" + 0.005*\"publik\" + 0.005*\"rakyat\" + 0.005*\"konstitusi\" + '\n",
      "  '0.004*\"lanyalla\" + 0.004*\"pokok\"'),\n",
      " (4,\n",
      "  '0.006*\"rakyat\" + 0.005*\"tolak\" + 0.005*\"wacana\" + 0.005*\"mpr\" + 0.003*\"ri\" '\n",
      "  '+ 0.003*\"ahy\" + 0.003*\"orang\" + 0.003*\"perwakilan\" + 0.003*\"periode\" + '\n",
      "  '0.003*\"dpr\"')]\n"
     ]
    }
   ],
   "source": [
    "lda_model_2 = gensim.models.LdaMulticore(corpus=doc_term_matrix,\n",
    "                                           id2word=dictionary,\n",
    "                                           num_topics=5, \n",
    "                                           random_state=100,\n",
    "                                           chunksize=100,\n",
    "                                           passes=10,\n",
    "                                           alpha=0.31,\n",
    "                                           eta=0.91)\n",
    "\n",
    "pprint(lda_model_2.print_topics())"
   ]
  },
  {
   "cell_type": "markdown",
   "id": "0084736e",
   "metadata": {},
   "source": [
    "Beberapa topik yang dibahas dari data tweet mengenai penundaan pemilu adalah:\n",
    "1. Presiden Jokowi melarang para menterinya untuk berbicara tentang wacana penundaan pemilu dan perpanjangan periode presiden.\n",
    "2. Mahasiswa berdemo menolak wacana perpanjangan amasa jabatan presiden.\n",
    "3. Mahasiswa mewacanakan demo untuk menolak isu penambahan periode presiden dan penundaan pemilu.\n",
    "4. Menteri Luhut yang mengklaim melalui big data bahwa sekian juta rakyat Indonesia setuju dengan penundaan pemilu.\n",
    "5. DPR, MPR, partai demokrat, dan rakyat setuju menolak wacana penundaan pemilu."
   ]
  },
  {
   "cell_type": "markdown",
   "id": "2673ace7",
   "metadata": {},
   "source": [
    "## 4.8 Sentiment Analysis (Machine Learning)"
   ]
  },
  {
   "cell_type": "markdown",
   "id": "83782593",
   "metadata": {},
   "source": [
    "Dalam melakukan sentiment analisis menggunakan machine learning, model ML akan menggunakan data dari analisis sentimen twitter sebagai data training dan test, lalu data judul berita sebagai data prediksi. Klasifikasi sentimen dari data tweet akan menggunakan sentimen yang didapat dari bagian 4.6 tentang analisis sentimen."
   ]
  },
  {
   "cell_type": "code",
   "execution_count": 28,
   "id": "80842749",
   "metadata": {},
   "outputs": [],
   "source": [
    "# Mengubah data sentimen menjadi data numerik\n",
    "# 1 untuk positif\n",
    "# 0 untuk netral\n",
    "# -1 untuk negatif\n",
    "\n",
    "df_tweets.replace({\"sentiment\":{\"negatif\":int(-1), \"positif\":int(1), 'netral':int(0)}}, inplace=True)"
   ]
  },
  {
   "cell_type": "code",
   "execution_count": 29,
   "id": "65f7369e",
   "metadata": {
    "scrolled": false
   },
   "outputs": [
    {
     "data": {
      "text/html": [
       "<div>\n",
       "<style scoped>\n",
       "    .dataframe tbody tr th:only-of-type {\n",
       "        vertical-align: middle;\n",
       "    }\n",
       "\n",
       "    .dataframe tbody tr th {\n",
       "        vertical-align: top;\n",
       "    }\n",
       "\n",
       "    .dataframe thead th {\n",
       "        text-align: right;\n",
       "    }\n",
       "</style>\n",
       "<table border=\"1\" class=\"dataframe\">\n",
       "  <thead>\n",
       "    <tr style=\"text-align: right;\">\n",
       "      <th></th>\n",
       "      <th>tweets</th>\n",
       "      <th>clean_tweet</th>\n",
       "      <th>sentiment</th>\n",
       "    </tr>\n",
       "  </thead>\n",
       "  <tbody>\n",
       "    <tr>\n",
       "      <th>0</th>\n",
       "      <td>\"Kalau Pak Luhut ya monggo saja, bisa evaluasi...</td>\n",
       "      <td>luhut iya monggo evaluasi orang beliau prime m...</td>\n",
       "      <td>1</td>\n",
       "    </tr>\n",
       "    <tr>\n",
       "      <th>1</th>\n",
       "      <td>Mahasiswa Lebak Tolak Penundaan Pemilu dan Jok...</td>\n",
       "      <td>mahasiswa lebak tolak jokowi periode april pre...</td>\n",
       "      <td>0</td>\n",
       "    </tr>\n",
       "    <tr>\n",
       "      <th>2</th>\n",
       "      <td>@muispebrianto Saya prihatin melihat ini, masi...</td>\n",
       "      <td>prihatin menggoreng presiden periode sebenerny...</td>\n",
       "      <td>0</td>\n",
       "    </tr>\n",
       "    <tr>\n",
       "      <th>3</th>\n",
       "      <td>Ketum parpol yg lempar isu.pemerintah Jokowi,M...</td>\n",
       "      <td>ketum partai politik lempar isu pemerintah jok...</td>\n",
       "      <td>-1</td>\n",
       "    </tr>\n",
       "    <tr>\n",
       "      <th>4</th>\n",
       "      <td>@chinta_chintata Stop isu penundaan pemilu</td>\n",
       "      <td>chintata stop isu</td>\n",
       "      <td>-1</td>\n",
       "    </tr>\n",
       "    <tr>\n",
       "      <th>...</th>\n",
       "      <td>...</td>\n",
       "      <td>...</td>\n",
       "      <td>...</td>\n",
       "    </tr>\n",
       "    <tr>\n",
       "      <th>2617</th>\n",
       "      <td>FAM UI :\\nHentikan isu penundaan pemilu dan pe...</td>\n",
       "      <td>fam ui hentikan isu perpanjangan jabatan presi...</td>\n",
       "      <td>-1</td>\n",
       "    </tr>\n",
       "    <tr>\n",
       "      <th>2618</th>\n",
       "      <td>@VIVAcoid PDIP banyak PKI,apakah TNI juga ada....</td>\n",
       "      <td>pdip pki tni diam pki resmi peserta periode ramai</td>\n",
       "      <td>1</td>\n",
       "    </tr>\n",
       "    <tr>\n",
       "      <th>2619</th>\n",
       "      <td>Tekanan kpd jkw utk penundaan pemilu atw pun 3...</td>\n",
       "      <td>tekanan jkw atw periode tandanya kuat jk kekua...</td>\n",
       "      <td>1</td>\n",
       "    </tr>\n",
       "    <tr>\n",
       "      <th>2620</th>\n",
       "      <td>Penundaan pemilu 2024 bukan hanya akan memperp...</td>\n",
       "      <td>memperpanjang jabatan presiden wakil presiden ...</td>\n",
       "      <td>0</td>\n",
       "    </tr>\n",
       "    <tr>\n",
       "      <th>2621</th>\n",
       "      <td>2019 Ganti Presiden disebut Makar katanya mela...</td>\n",
       "      <td>ganti presiden makar melanggar konstitusi hti ...</td>\n",
       "      <td>-1</td>\n",
       "    </tr>\n",
       "  </tbody>\n",
       "</table>\n",
       "<p>2622 rows × 3 columns</p>\n",
       "</div>"
      ],
      "text/plain": [
       "                                                 tweets  \\\n",
       "0     \"Kalau Pak Luhut ya monggo saja, bisa evaluasi...   \n",
       "1     Mahasiswa Lebak Tolak Penundaan Pemilu dan Jok...   \n",
       "2     @muispebrianto Saya prihatin melihat ini, masi...   \n",
       "3     Ketum parpol yg lempar isu.pemerintah Jokowi,M...   \n",
       "4            @chinta_chintata Stop isu penundaan pemilu   \n",
       "...                                                 ...   \n",
       "2617  FAM UI :\\nHentikan isu penundaan pemilu dan pe...   \n",
       "2618  @VIVAcoid PDIP banyak PKI,apakah TNI juga ada....   \n",
       "2619  Tekanan kpd jkw utk penundaan pemilu atw pun 3...   \n",
       "2620  Penundaan pemilu 2024 bukan hanya akan memperp...   \n",
       "2621  2019 Ganti Presiden disebut Makar katanya mela...   \n",
       "\n",
       "                                            clean_tweet  sentiment  \n",
       "0     luhut iya monggo evaluasi orang beliau prime m...          1  \n",
       "1     mahasiswa lebak tolak jokowi periode april pre...          0  \n",
       "2     prihatin menggoreng presiden periode sebenerny...          0  \n",
       "3     ketum partai politik lempar isu pemerintah jok...         -1  \n",
       "4                                     chintata stop isu         -1  \n",
       "...                                                 ...        ...  \n",
       "2617  fam ui hentikan isu perpanjangan jabatan presi...         -1  \n",
       "2618  pdip pki tni diam pki resmi peserta periode ramai          1  \n",
       "2619  tekanan jkw atw periode tandanya kuat jk kekua...          1  \n",
       "2620  memperpanjang jabatan presiden wakil presiden ...          0  \n",
       "2621  ganti presiden makar melanggar konstitusi hti ...         -1  \n",
       "\n",
       "[2622 rows x 3 columns]"
      ]
     },
     "execution_count": 29,
     "metadata": {},
     "output_type": "execute_result"
    }
   ],
   "source": [
    "df_tweets"
   ]
  },
  {
   "cell_type": "code",
   "execution_count": 30,
   "id": "e9a80964",
   "metadata": {},
   "outputs": [],
   "source": [
    "# Mengubah fitur teks menjadi numerik menggunakan TFIDF Vectorizer\n",
    "\n",
    "vectorizer = TfidfVectorizer (max_features=2500)\n",
    "\n",
    "v_data = vectorizer.fit_transform(df_tweets['clean_tweet']).toarray()\n",
    "vectorizer.fit_transform(df_tweets['clean_tweet'])\n",
    "\n",
    "X_train, X_test, y_train, y_test = train_test_split(v_data, df_tweets['sentiment'], test_size=0.2, random_state = 36)"
   ]
  },
  {
   "cell_type": "code",
   "execution_count": 31,
   "id": "bd999ba1",
   "metadata": {},
   "outputs": [
    {
     "data": {
      "text/plain": [
       "GaussianNB(var_smoothing=1.0)"
      ]
     },
     "execution_count": 31,
     "metadata": {},
     "output_type": "execute_result"
    }
   ],
   "source": [
    "# Melatih model\n",
    "model_g = GaussianNB(var_smoothing=1.0)\n",
    "\n",
    "model_g.fit(X_train, y_train)"
   ]
  },
  {
   "cell_type": "code",
   "execution_count": 32,
   "id": "13fd6573",
   "metadata": {},
   "outputs": [
    {
     "name": "stdout",
     "output_type": "stream",
     "text": [
      "[[ 98 100  20]\n",
      " [ 18 145  23]\n",
      " [  6  45  70]]\n",
      "              precision    recall  f1-score   support\n",
      "\n",
      "          -1       0.80      0.45      0.58       218\n",
      "           0       0.50      0.78      0.61       186\n",
      "           1       0.62      0.58      0.60       121\n",
      "\n",
      "    accuracy                           0.60       525\n",
      "   macro avg       0.64      0.60      0.59       525\n",
      "weighted avg       0.65      0.60      0.59       525\n",
      "\n",
      "Akurasi dari model adalah  0.5961904761904762\n"
     ]
    }
   ],
   "source": [
    "# Melihat performa dari model yang dibuat\n",
    "y_preds = model_g.predict(X_test)\n",
    "print(confusion_matrix(y_test,y_preds))\n",
    "print(classification_report(y_test,y_preds))\n",
    "print('Akurasi dari model adalah ',accuracy_score(y_test, y_preds))"
   ]
  },
  {
   "cell_type": "code",
   "execution_count": 33,
   "id": "946f0baf",
   "metadata": {},
   "outputs": [
    {
     "data": {
      "text/html": [
       "<div>\n",
       "<style scoped>\n",
       "    .dataframe tbody tr th:only-of-type {\n",
       "        vertical-align: middle;\n",
       "    }\n",
       "\n",
       "    .dataframe tbody tr th {\n",
       "        vertical-align: top;\n",
       "    }\n",
       "\n",
       "    .dataframe thead th {\n",
       "        text-align: right;\n",
       "    }\n",
       "</style>\n",
       "<table border=\"1\" class=\"dataframe\">\n",
       "  <thead>\n",
       "    <tr style=\"text-align: right;\">\n",
       "      <th></th>\n",
       "      <th>titles</th>\n",
       "      <th>titles_clean</th>\n",
       "      <th>sentiment</th>\n",
       "    </tr>\n",
       "  </thead>\n",
       "  <tbody>\n",
       "    <tr>\n",
       "      <th>0</th>\n",
       "      <td>Projo Bersikap soal Penundaan Pemilu di Rakern...</td>\n",
       "      <td>projo bersikap rakernas mei jokowi hadir</td>\n",
       "      <td>0</td>\n",
       "    </tr>\n",
       "    <tr>\n",
       "      <th>1</th>\n",
       "      <td>PPP Nilai Jokowi Merasa Jadi Sasaran Tembak so...</td>\n",
       "      <td>ppp nilai jokowi sasaran tembak tegur menteri ...</td>\n",
       "      <td>0</td>\n",
       "    </tr>\n",
       "    <tr>\n",
       "      <th>2</th>\n",
       "      <td>Diwanti-wanti Jokowi, Zulkifli Hasan Tegas Seb...</td>\n",
       "      <td>diwanti wanti jokowi zulkifli hasan wacana ter...</td>\n",
       "      <td>0</td>\n",
       "    </tr>\n",
       "    <tr>\n",
       "      <th>3</th>\n",
       "      <td>Wiranto Pastikan Tidak Ada Perpanjangan Jabata...</td>\n",
       "      <td>wiranto pastikan perpanjangan jabatan presiden</td>\n",
       "      <td>0</td>\n",
       "    </tr>\n",
       "    <tr>\n",
       "      <th>4</th>\n",
       "      <td>Wiranto Jawab BEM Nusantara soal Penundaan Pem...</td>\n",
       "      <td>wiranto bem nusantara merdeka com</td>\n",
       "      <td>-1</td>\n",
       "    </tr>\n",
       "    <tr>\n",
       "      <th>...</th>\n",
       "      <td>...</td>\n",
       "      <td>...</td>\n",
       "      <td>...</td>\n",
       "    </tr>\n",
       "    <tr>\n",
       "      <th>155</th>\n",
       "      <td>Proyek Pemindahan IKN Tidak Bisa Jadi Alasan P...</td>\n",
       "      <td>ribuan mahasiswa masyarakat kaltim bergerak tolak</td>\n",
       "      <td>0</td>\n",
       "    </tr>\n",
       "    <tr>\n",
       "      <th>156</th>\n",
       "      <td>VIDEO: Ratusan Mahasiswa Berunjuk Rasa Menolak...</td>\n",
       "      <td>gerakan diorkestra orang istana</td>\n",
       "      <td>-1</td>\n",
       "    </tr>\n",
       "    <tr>\n",
       "      <th>157</th>\n",
       "      <td>Jokowi dan Tekad APDESI untuk Penundaan Pemilu...</td>\n",
       "      <td>sorotan berita surat palsu ksp perampok bank b...</td>\n",
       "      <td>0</td>\n",
       "    </tr>\n",
       "    <tr>\n",
       "      <th>158</th>\n",
       "      <td>Apdesi Diseret ke Isu Penundaan Pemilu, Jerry ...</td>\n",
       "      <td>respons setneg mahasiswa ancam demo isu</td>\n",
       "      <td>-1</td>\n",
       "    </tr>\n",
       "    <tr>\n",
       "      <th>159</th>\n",
       "      <td>Ada Menteri Usul Penundaan Pemilu 2024, Pakar:...</td>\n",
       "      <td>presiden muncul wacana periode inisiatifnews com</td>\n",
       "      <td>0</td>\n",
       "    </tr>\n",
       "  </tbody>\n",
       "</table>\n",
       "<p>160 rows × 3 columns</p>\n",
       "</div>"
      ],
      "text/plain": [
       "                                                titles  \\\n",
       "0    Projo Bersikap soal Penundaan Pemilu di Rakern...   \n",
       "1    PPP Nilai Jokowi Merasa Jadi Sasaran Tembak so...   \n",
       "2    Diwanti-wanti Jokowi, Zulkifli Hasan Tegas Seb...   \n",
       "3    Wiranto Pastikan Tidak Ada Perpanjangan Jabata...   \n",
       "4    Wiranto Jawab BEM Nusantara soal Penundaan Pem...   \n",
       "..                                                 ...   \n",
       "155  Proyek Pemindahan IKN Tidak Bisa Jadi Alasan P...   \n",
       "156  VIDEO: Ratusan Mahasiswa Berunjuk Rasa Menolak...   \n",
       "157  Jokowi dan Tekad APDESI untuk Penundaan Pemilu...   \n",
       "158  Apdesi Diseret ke Isu Penundaan Pemilu, Jerry ...   \n",
       "159  Ada Menteri Usul Penundaan Pemilu 2024, Pakar:...   \n",
       "\n",
       "                                          titles_clean  sentiment  \n",
       "0             projo bersikap rakernas mei jokowi hadir          0  \n",
       "1    ppp nilai jokowi sasaran tembak tegur menteri ...          0  \n",
       "2    diwanti wanti jokowi zulkifli hasan wacana ter...          0  \n",
       "3       wiranto pastikan perpanjangan jabatan presiden          0  \n",
       "4                    wiranto bem nusantara merdeka com         -1  \n",
       "..                                                 ...        ...  \n",
       "155  ribuan mahasiswa masyarakat kaltim bergerak tolak          0  \n",
       "156                    gerakan diorkestra orang istana         -1  \n",
       "157  sorotan berita surat palsu ksp perampok bank b...          0  \n",
       "158            respons setneg mahasiswa ancam demo isu         -1  \n",
       "159   presiden muncul wacana periode inisiatifnews com          0  \n",
       "\n",
       "[160 rows x 3 columns]"
      ]
     },
     "execution_count": 33,
     "metadata": {},
     "output_type": "execute_result"
    }
   ],
   "source": [
    "# Melakukan prediksi sentimen pada data judul berita\n",
    "v_data = vectorizer.transform(df_news[\"titles_clean\"]).toarray()\n",
    "y_classification = model_g.predict(v_data)\n",
    "df_news[\"sentiment\"] = list(y_classification)\n",
    "df_news"
   ]
  },
  {
   "cell_type": "code",
   "execution_count": 34,
   "id": "1c40dc64",
   "metadata": {},
   "outputs": [
    {
     "data": {
      "image/png": "[encoded data removed]",
      "text/plain": [
       "<Figure size 432x288 with 1 Axes>"
      ]
     },
     "metadata": {
      "needs_background": "light"
     },
     "output_type": "display_data"
    }
   ],
   "source": [
    "# Distribusi sentimen dari data judul berita yang didapat\n",
    "c = Counter(df_news[\"sentiment\"])\n",
    "\n",
    "plt.bar(c.keys(), c.values())\n",
    "plt.title(f'Sentiment Distribution')\n",
    "plt.xlabel('Labels')\n",
    "plt.ylabel('Counts')\n",
    "plt.show()"
   ]
  },
  {
   "cell_type": "code",
   "execution_count": 35,
   "id": "f4325d09",
   "metadata": {},
   "outputs": [
    {
     "data": {
      "text/plain": [
       "(menteri, bicara)    4\n",
       "(larang, menteri)    3\n",
       "(partai, politik)    3\n",
       "(jokowi, larang)     3\n",
       "(jokowi, sanksi)     3\n",
       "dtype: int64"
      ]
     },
     "execution_count": 35,
     "metadata": {},
     "output_type": "execute_result"
    }
   ],
   "source": [
    "pos = df_news[df_news['sentiment']==1]['titles_clean']\n",
    "positive_title = [word for title in pos.apply(lambda x: word_tokenize(str(x))) for word in title]\n",
    "\n",
    "pd.Series(nltk.ngrams(positive_title, 2)).value_counts()[:5]"
   ]
  },
  {
   "cell_type": "code",
   "execution_count": 36,
   "id": "8a75a272",
   "metadata": {},
   "outputs": [
    {
     "data": {
      "text/plain": [
       "(jokowi, larang)           9\n",
       "(menteri, bicara)          9\n",
       "(larang, menteri)          8\n",
       "(perpanjangan, jabatan)    6\n",
       "(jabatan, presiden)        5\n",
       "dtype: int64"
      ]
     },
     "execution_count": 36,
     "metadata": {},
     "output_type": "execute_result"
    }
   ],
   "source": [
    "net = df_news[df_news['sentiment']==0]['titles_clean']\n",
    "neutral_title = [word for title in net.apply(lambda x: word_tokenize(str(x))) for word in title]\n",
    "\n",
    "pd.Series(nltk.ngrams(neutral_title, 2)).value_counts()[:5]"
   ]
  },
  {
   "cell_type": "code",
   "execution_count": 37,
   "id": "43e1459b",
   "metadata": {},
   "outputs": [
    {
     "data": {
      "text/plain": [
       "(demo, isu)             3\n",
       "(desak, luhut)          2\n",
       "(dinilai, melenceng)    2\n",
       "(menteri, dilarang)     2\n",
       "(dilarang, bicara)      2\n",
       "dtype: int64"
      ]
     },
     "execution_count": 37,
     "metadata": {},
     "output_type": "execute_result"
    }
   ],
   "source": [
    "neg = df_news[df_news['sentiment']==-1]['titles_clean']\n",
    "negative_title = [word for title in neg.apply(lambda x: word_tokenize(str(x))) for word in title]\n",
    "\n",
    "pd.Series(nltk.ngrams(negative_title, 2)).value_counts()[:5]"
   ]
  },
  {
   "cell_type": "code",
   "execution_count": null,
   "id": "526be595",
   "metadata": {},
   "outputs": [],
   "source": []
  },
  {
   "cell_type": "markdown",
   "id": "e06d8def",
   "metadata": {},
   "source": [
    "# 5. Data Analysis\n",
    "\n",
    "## Data tweet\n",
    "Dari distribusi tweet yang didapat, sebagian besar tweet berisi 50-60 karakter, 6-10 kata, dan panjang rata-rata kata di tweet adalah 7. Sebagian besar merupakan opini dari warganet dengan beberapa merupakan judul berita dari beberapa media yang menggunakan twitter.\n",
    "\n",
    "## Distribusi kata tweet\n",
    "Dari distribusi kata pada bagian 4.4, presiden Jokowi merupakan 2 kata yang paling sering muncul. Hal ini karena penundaan pemilu otomatis akan berpengaruh langsung kepada presiden dimana akan memperpanjang masa jabatan presiden. Beberapa kata seperti menteri, penolakan, dan mahasiswa juga sering muncul.\n",
    "\n",
    "## Distribusi N-gram\n",
    "Dari distribusi N-gram 2 kata, frasa perpanjangan jabatan merupakan yang paling sering muncul karena penundaan pemilu akan memperpanjang masa jabatan dari pemegang kekuasaan. Sedangkan untuk N-gram 3 kata dan 4 kata, hal yang menarik adalah mengenai Presiden Jokowi yang melarang menteri bicara tentang perpanjangan jabatan. Dapat diasumsikan bahwa banyak menteri yang menyuarakan untuk menunda pemilu sehingga akhirnya dilarang oleh presiden.\n",
    "\n",
    "## Sentimen analisis\n",
    "Dari hasil sentimen analisis menggunakan kamus kata positif dan kata negatif, kebanyakan tweet memiliki sentimen netral namun cenderung lebih banyak yang mengarah ke sentimen negatif dibandingkan dengan sentimen positif. Dapat disimpulkan sentimen terkait isu penundaan pemilu ini adalah lebih ke negatif dan tidak baik.\n",
    "\n",
    "Kebanyakan sentimen yang tidak baik adalah demo penolakan dari mahasiswa terhadap isu ini. Sedangkan sentimen positif dari sikap Presiden Jokowi yang melarang menterinya untuk berbicara tentang isu penundaan pemilu.\n",
    "\n",
    "## Analisis topik\n",
    "Dari analisis topik, didapat beberapa topik yang dibahas dari data tweet mengenai penundaan pemilu adalah:\n",
    "1. Presiden Jokowi melarang para menterinya untuk berbicara tentang wacana penundaan pemilu dan perpanjangan periode presiden.\n",
    "2. Mahasiswa berdemo menolak wacana perpanjangan amasa jabatan presiden.\n",
    "3. Mahasiswa mewacanakan demo untuk menolak isu penambahan periode presiden dan penundaan pemilu.\n",
    "4. Menteri Luhut yang mengklaim melalui big data bahwa sekian juta rakyat Indonesia setuju dengan penundaan pemilu.\n",
    "5. DPR, MPR, partai demokrat, dan rakyat setuju menolak wacana penundaan pemilu.\n",
    "\n",
    "## Sentimen analisis (ML)\n",
    "Model yang dihasilkan memiliki skor akurasi sekitar 0.6. Hasil ini cukup baik meskipun sebenarnya dapat ditingkatkan. Untuk prediksi yang dihasilkan, kebanyakan hasil adalah netral, diikuti dengan negatif, dan positif.\n",
    "\n",
    "Beberapa hal yang perlu diperhatikan dalam penggunaan model ini adalah:\n",
    "1. Label sentimen yang digunakan di-generate secara otomatis menggunakan kamus bahasa. Hal ini tentu saja dapat menjadi perhatian karena masih memungkinkan kesalahan pelabelan yang dilakukan oleh mesin. Sebagai contoh, tweet yang sebenarnya memiliki sentimen positif namun menggunakan kata-kata yang negatif tentu saja akan dilabeli negatif. Begitu pula sebaliknya. Pelabelan secara manual oleh manusia tentu lebih diinginkan.\n",
    "2. Perbedaan data train dan data test. Data train merupakan data tweet dari Twitter yang bersifat lebih bebas dan terdapat opini dari publik. Sedangkan data test merupakan data berita dari media massa yang lebih terstruktur dan terorganisir. \n",
    "3. Ketimpangan label data train dimana lebih banyak label sentimen negatif dan netral.\n",
    "\n",
    "Dari analisis bigram, hasil prediksi netral dan positif didominasi dengan larangan Presiden Jokowi terhadap menterinya. Sedangkan prediksi negatif lebih condong kepada demo mahasiswa, menteri luhut, dan sebagian laranga dari Presiden Jokowi juga."
   ]
  },
  {
   "cell_type": "code",
   "execution_count": null,
   "id": "277bf040",
   "metadata": {},
   "outputs": [],
   "source": []
  }
 ],
 "metadata": {
  "kernelspec": {
   "display_name": "Python 3 (ipykernel)",
   "language": "python",
   "name": "python3"
  },
  "language_info": {
   "codemirror_mode": {
    "name": "ipython",
    "version": 3
   },
   "file_extension": ".py",
   "mimetype": "text/x-python",
   "name": "python",
   "nbconvert_exporter": "python",
   "pygments_lexer": "ipython3",
   "version": "3.8.8"
  }
 },
 "nbformat": 4,
 "nbformat_minor": 5
}
